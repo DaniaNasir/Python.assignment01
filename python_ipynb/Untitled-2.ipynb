{
 "cells": [
  {
   "cell_type": "code",
   "execution_count": 1,
   "metadata": {},
   "outputs": [
    {
     "name": "stdout",
     "output_type": "stream",
     "text": [
      "you choose: paper\n",
      "computer choose: scissors\n",
      "computer wins!\n"
     ]
    }
   ],
   "source": [
    "import random\n",
    "options = [\"rock\" , \"paper\" , \"scissors\"]\n",
    "\n",
    "user_choice = input(\"choose rock, paper, scissors:\")\n",
    "computer_choice = random.choice(options)\n",
    "print('you choose:', user_choice)\n",
    "print(\"computer choose:\",computer_choice)\n",
    "\n",
    "if user_choice == computer_choice:\n",
    "    print(\"it's a tie!\") \n",
    "elif user_choice == \"rock\" and computer_choice == \"scissors\":\n",
    "    print(\"you win!\")\n",
    "elif user_choice == \"paper\" and computer_choice == \"rock\":\n",
    "    print(\"you win!\")\n",
    "elif user_choice == \"scissors\" and computer_choice == \"paper\":\n",
    "    print(\"you win!\")\n",
    "else:\n",
    "    print(\"computer wins!\")\n"
   ]
  },
  {
   "cell_type": "code",
   "execution_count": null,
   "metadata": {},
   "outputs": [],
   "source": []
  }
 ],
 "metadata": {
  "kernelspec": {
   "display_name": "Python 3",
   "language": "python",
   "name": "python3"
  },
  "language_info": {
   "codemirror_mode": {
    "name": "ipython",
    "version": 3
   },
   "file_extension": ".py",
   "mimetype": "text/x-python",
   "name": "python",
   "nbconvert_exporter": "python",
   "pygments_lexer": "ipython3",
   "version": "3.11.4"
  },
  "orig_nbformat": 4
 },
 "nbformat": 4,
 "nbformat_minor": 2
}
