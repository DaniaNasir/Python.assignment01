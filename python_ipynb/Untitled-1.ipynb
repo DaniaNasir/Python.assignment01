{
 "cells": [
  {
   "cell_type": "markdown",
   "metadata": {},
   "source": [
    "## 1st one"
   ]
  },
  {
   "cell_type": "code",
   "execution_count": 3,
   "metadata": {},
   "outputs": [
    {
     "name": "stdout",
     "output_type": "stream",
     "text": [
      "generated password:x8]ouic(\n"
     ]
    }
   ],
   "source": [
    "import random\n",
    "lower = \"abcdefghijklmnopqrstuvwxyz\"\n",
    "upper = \"ABCEFGHIJKLMNOPQRSTUVWXYZ\"\n",
    "numbers = \"0123456789\"\n",
    "symbols = \"!@#$%^&*()[]:.,/\"\n",
    "all = lower + upper + numbers + symbols\n",
    "length = 8\n",
    "password = \"\". join(random.sample(all,length))\n",
    "\n",
    "print(\"generated password:\" + password)"
   ]
  },
  {
   "cell_type": "markdown",
   "metadata": {},
   "source": [
    "## 2nd one"
   ]
  },
  {
   "cell_type": "code",
   "execution_count": 5,
   "metadata": {},
   "outputs": [
    {
     "name": "stdout",
     "output_type": "stream",
     "text": [
      "generated passward is:0ermuyc,y7ed\n"
     ]
    }
   ],
   "source": [
    "import random\n",
    "months = 'december,february,july'\n",
    "dates = '25,20,7'\n",
    "symbols = '-_.'\n",
    "length = 12\n",
    "all = months + dates + symbols \n",
    "password = \"\". join(random.sample(all,length))\n",
    "\n",
    "print(\"generated passward is:\" + password)"
   ]
  }
 ],
 "metadata": {
  "kernelspec": {
   "display_name": "Python 3",
   "language": "python",
   "name": "python3"
  },
  "language_info": {
   "codemirror_mode": {
    "name": "ipython",
    "version": 3
   },
   "file_extension": ".py",
   "mimetype": "text/x-python",
   "name": "python",
   "nbconvert_exporter": "python",
   "pygments_lexer": "ipython3",
   "version": "3.11.4"
  },
  "orig_nbformat": 4
 },
 "nbformat": 4,
 "nbformat_minor": 2
}
